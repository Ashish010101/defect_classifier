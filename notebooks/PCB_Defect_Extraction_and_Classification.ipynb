{
 "cells": [
  {
   "cell_type": "markdown",
   "metadata": {
    "id": "hCe9JGTtdTa4",
    "colab_type": "text"
   },
   "source": [
    "# PCB Defect Image Extraction"
   ]
  },
  {
   "cell_type": "markdown",
   "metadata": {
    "id": "JgMH7DeRdhs2",
    "colab_type": "text"
   },
   "source": [
    "### Install tetryonai"
   ]
  },
  {
   "cell_type": "code",
   "execution_count": 0,
   "metadata": {
    "id": "8wlUFeR3dR2S",
    "colab_type": "code",
    "colab": {}
   },
   "outputs": [],
   "source": [
    "!pip install git+https://github.com/sean-mcclure/tetryon_ai.git"
   ]
  },
  {
   "cell_type": "code",
   "execution_count": 0,
   "metadata": {
    "id": "AyTxf2OrdZg2",
    "colab_type": "code",
    "colab": {}
   },
   "outputs": [],
   "source": [
    "from tetryonai.main import *"
   ]
  },
  {
   "cell_type": "markdown",
   "metadata": {
    "id": "h-Oa2L8QcLTW",
    "colab_type": "text"
   },
   "source": [
    "###Make the following folders:\n",
    "\n",
    "*   difference_img\n",
    "*   extracted_defects"
   ]
  },
  {
   "cell_type": "code",
   "execution_count": 0,
   "metadata": {
    "id": "J0-RghhRhevh",
    "colab_type": "code",
    "colab": {}
   },
   "outputs": [],
   "source": [
    "directory(**{\n",
    "    \"choice\" : \"make\",\n",
    "    \"directory_path\" : \"difference_img\"\n",
    "})\n",
    "\n",
    "directory(**{\n",
    "    \"choice\" : \"make\",\n",
    "    \"directory_path\" : \"extracted_defects\"\n",
    "})"
   ]
  },
  {
   "cell_type": "markdown",
   "metadata": {
    "id": "6vA7XEG8cpBY",
    "colab_type": "text"
   },
   "source": [
    "###Clone PCB Dataset"
   ]
  },
  {
   "cell_type": "code",
   "execution_count": 3,
   "metadata": {
    "id": "5qwXg4xQcoMT",
    "colab_type": "code",
    "outputId": "777a0ac3-22d6-442c-cdc5-fbf671f12baf",
    "colab": {
     "base_uri": "https://localhost:8080/",
     "height": 102.0
    }
   },
   "outputs": [
    {
     "name": "stdout",
     "output_type": "stream",
     "text": [
      "Cloning into 'DeepPCB'...\n",
      "remote: Enumerating objects: 4753, done.\u001b[K\n",
      "remote: Total 4753 (delta 0), reused 0 (delta 0), pack-reused 4753\u001b[K\n",
      "Receiving objects: 100% (4753/4753), 85.81 MiB | 38.49 MiB/s, done.\n",
      "Resolving deltas: 100% (191/191), done.\n"
     ]
    }
   ],
   "source": [
    "!git clone https://github.com/tangsanli5201/DeepPCB.git"
   ]
  },
  {
   "cell_type": "markdown",
   "metadata": {
    "id": "W-wkvVHec-YN",
    "colab_type": "text"
   },
   "source": [
    "### Read in PCB Defect Images (temp and test)"
   ]
  },
  {
   "cell_type": "code",
   "execution_count": 0,
   "metadata": {
    "id": "vs5JMS8BcvWi",
    "colab_type": "code",
    "colab": {}
   },
   "outputs": [],
   "source": [
    "import glob\n",
    "\n",
    "image_path = 'DeepPCB/PCBData/'\n",
    "temp_pattern = '/*temp.jpg'\n",
    "test_pattern = '/*test.jpg'\n",
    "\n",
    "temps_and_tests = {}\n",
    "\n",
    "for folder in os.listdir(image_path):\n",
    "    full_path = image_path + folder + '/' + folder.replace('group', '')\n",
    "    temps = glob.glob(full_path + '/' + temp_pattern)\n",
    "    tests = glob.glob(full_path + '/' + test_pattern)\n",
    "    inner = {}\n",
    "    inner['temps'] = temps\n",
    "    inner['tests'] = tests\n",
    "    temps_and_tests[folder] = inner"
   ]
  },
  {
   "cell_type": "markdown",
   "metadata": {
    "id": "jvjb0wPUdX2C",
    "colab_type": "text"
   },
   "source": [
    "### Difference all PCB images"
   ]
  },
  {
   "cell_type": "code",
   "execution_count": 0,
   "metadata": {
    "id": "w-XAnnvodHoq",
    "colab_type": "code",
    "colab": {}
   },
   "outputs": [],
   "source": [
    "for index, whatever in enumerate(temps_and_tests['group00041']['temps']):\n",
    "    root_img_name = temps_and_tests['group00041']['temps'][index].replace('_temp.jpg', '')\n",
    "    temp_file_path = root_img_name  + '_temp.jpg'\n",
    "    test_file_path = root_img_name + '_test.jpg'\n",
    "\n",
    "    subtract_images(**{\n",
    "        \"image_path_1\" : temp_file_path,\n",
    "        \"image_path_2\" : test_file_path,\n",
    "        \"write_path\" : \"difference_img/diff_image_\" + str(index) + \".png\"\n",
    "    })"
   ]
  },
  {
   "cell_type": "markdown",
   "metadata": {
    "id": "4J9K634pp5oJ",
    "colab_type": "text"
   },
   "source": [
    "### Extract the defects from all differenced images"
   ]
  },
  {
   "cell_type": "code",
   "execution_count": 0,
   "metadata": {
    "id": "1F2S0QKcqKIz",
    "colab_type": "code",
    "colab": {}
   },
   "outputs": [],
   "source": [
    "all_differenced_images = os.listdir('difference_img')"
   ]
  },
  {
   "cell_type": "code",
   "execution_count": 0,
   "metadata": {
    "id": "G2p9LwLweGYL",
    "colab_type": "code",
    "colab": {}
   },
   "outputs": [],
   "source": [
    "for index, filename in enumerate(all_differenced_images):\n",
    "    os.mkdir(\"extracted_defects/extracts_\" + str(index))\n",
    "    this_write_path = \"extracted_defects/extracts_\" + str(index) + \"/\"\n",
    "    extract_contours_from_image(**{\n",
    "        \"image_path\" : \"difference_img/\" + filename,\n",
    "        \"write_path\" : this_write_path,\n",
    "        \"hsv_lower\" : [0,150,50],\n",
    "        \"hsv_upper\" : [10,255,255]\n",
    "    })"
   ]
  },
  {
   "cell_type": "markdown",
   "metadata": {
    "id": "EUhd88k2x-PI",
    "colab_type": "text"
   },
   "source": [
    "### Combine extracted images into single directory"
   ]
  },
  {
   "cell_type": "code",
   "execution_count": 0,
   "metadata": {
    "id": "-iVrsUXdyCTt",
    "colab_type": "code",
    "colab": {}
   },
   "outputs": [],
   "source": [
    "directory(**{\n",
    "    \"choice\" : \"make\",\n",
    "    \"directory_path\" : \"all_extracts\"\n",
    "})"
   ]
  },
  {
   "cell_type": "code",
   "execution_count": 0,
   "metadata": {
    "id": "lWMihNwHyCWI",
    "colab_type": "code",
    "colab": {}
   },
   "outputs": [],
   "source": [
    "cnt=0\n",
    "for dirpath, dirs, files in os.walk(\"extracted_defects\"):\n",
    "    for index, filename in enumerate(files):\n",
    "        if filename.endswith(\".png\"):\n",
    "            cnt += 1            \n",
    "            move_files(**{\n",
    "                \"file_paths\" : [dirpath + \"/\" + filename],\n",
    "                \"target_directory\" : \"all_extracts/extract_\" + str(cnt) + \".png\"\n",
    "            })"
   ]
  },
  {
   "cell_type": "markdown",
   "metadata": {
    "id": "Lv-W_WEs4Hcz",
    "colab_type": "text"
   },
   "source": [
    "### Zip all extracted defect images"
   ]
  },
  {
   "cell_type": "code",
   "execution_count": 0,
   "metadata": {
    "id": "8Q7RBrXyzegd",
    "colab_type": "code",
    "colab": {}
   },
   "outputs": [],
   "source": [
    "!zip -r /content/extracted_defects.zip /content/all_extracts/"
   ]
  },
  {
   "cell_type": "markdown",
   "metadata": {
    "id": "Q-6I4zBO4VRt",
    "colab_type": "text"
   },
   "source": [
    "### Create JSON file for defect turker"
   ]
  },
  {
   "cell_type": "code",
   "execution_count": 0,
   "metadata": {
    "id": "gGWUihrXzej9",
    "colab_type": "code",
    "colab": {}
   },
   "outputs": [],
   "source": [
    "import json\n",
    "\n",
    "file_names_and_sizes = {}\n",
    "file_names = os.listdir('all_extracts/')\n",
    "\n",
    "for index, file in enumerate(file_names):\n",
    "  file_names_and_sizes[file_names[index]] = os.path.getsize('all_extracts/' + file)"
   ]
  },
  {
   "cell_type": "markdown",
   "metadata": {
    "id": "LJMsE9R-4e-d",
    "colab_type": "text"
   },
   "source": [
    "### Remove any image paths with sizes 0\n",
    "#### Already taken care of by using tetryonai's contour function, but keeping here for others to use if needed"
   ]
  },
  {
   "cell_type": "code",
   "execution_count": 0,
   "metadata": {
    "id": "d1nD6JJ0zeix",
    "colab_type": "code",
    "colab": {}
   },
   "outputs": [],
   "source": [
    "file_names_and_sizes = {k: v for k, v in file_names_and_sizes.items() if v != 0}"
   ]
  },
  {
   "cell_type": "markdown",
   "metadata": {
    "id": "nvJV4pdb4m4s",
    "colab_type": "text"
   },
   "source": [
    "### Save JSON to Disk for Uploading to Defect Turker"
   ]
  },
  {
   "cell_type": "code",
   "execution_count": 0,
   "metadata": {
    "id": "qjaEgmrQ4jMd",
    "colab_type": "code",
    "colab": {}
   },
   "outputs": [],
   "source": [
    "with open('extracted_defects.json', 'w') as outfile:\n",
    "    json.dump(file_names_and_sizes, outfile)"
   ]
  },
  {
   "cell_type": "markdown",
   "metadata": {
    "id": "HOufoyhB6ap5",
    "colab_type": "text"
   },
   "source": [
    "# PCB Defect Classification"
   ]
  },
  {
   "cell_type": "markdown",
   "metadata": {
    "id": "e8hs37wj7PcJ",
    "colab_type": "text"
   },
   "source": [
    "##Install FASTAI"
   ]
  },
  {
   "cell_type": "code",
   "execution_count": 0,
   "metadata": {
    "id": "FglMDgmf7P_0",
    "colab_type": "code",
    "colab": {}
   },
   "outputs": [],
   "source": [
    "!pip install http://download.pytorch.org/whl/cpu/torch-1.0.0-cp36-cp36m-linux_x86_64.whl\n",
    "!pip install fastai"
   ]
  },
  {
   "cell_type": "code",
   "execution_count": 0,
   "metadata": {
    "id": "3fOWzm9p7TK2",
    "colab_type": "code",
    "colab": {}
   },
   "outputs": [],
   "source": [
    "from fastai.vision import *"
   ]
  },
  {
   "cell_type": "markdown",
   "metadata": {
    "id": "z7cJF7L97ZF5",
    "colab_type": "text"
   },
   "source": [
    "### Upload labelled data (CSV file)"
   ]
  },
  {
   "cell_type": "code",
   "execution_count": 19,
   "metadata": {
    "id": "RpFQ582j7Vl9",
    "colab_type": "code",
    "outputId": "b6deaa13-f124-4f17-b419-7c30bfe38eb8",
    "colab": {
     "resources": {
      "http://localhost:8080/nbextensions/google.colab/files.js": {
       "data": "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",
       "ok": true,
       "headers": [
        [
         "content-type",
         "application/javascript"
        ]
       ],
       "status": 200.0,
       "status_text": ""
      }
     },
     "base_uri": "https://localhost:8080/",
     "height": 108.0
    }
   },
   "outputs": [
    {
     "data": {
      "text/html": [
       "\n",
       "     <input type=\"file\" id=\"files-ca2c25b7-bcd9-4732-8363-e155b862fa1e\" name=\"files[]\" multiple disabled />\n",
       "     <output id=\"result-ca2c25b7-bcd9-4732-8363-e155b862fa1e\">\n",
       "      Upload widget is only available when the cell has been executed in the\n",
       "      current browser session. Please rerun this cell to enable.\n",
       "      </output>\n",
       "      <script src=\"/nbextensions/google.colab/files.js\"></script> "
      ],
      "text/plain": [
       "<IPython.core.display.HTML object>"
      ]
     },
     "metadata": {
      "tags": []
     },
     "output_type": "execute_result"
    },
    {
     "name": "stdout",
     "output_type": "stream",
     "text": [
      "Saving image_labels.csv to image_labels.csv\n"
     ]
    },
    {
     "data": {
      "text/plain": [
       "{'image_labels.csv': b'name,label\\r\\nname,label\\r\\nname,label\\r\\nextract_1158.png,NOT\\r\\nextract_1580.png,spur\\r\\nextract_1555.png,spur\\r\\nextract_866.png,spur\\r\\nextract_688.png,spur\\r\\nextract_15.png,NOT\\r\\nextract_622.png,spur\\r\\nextract_410.png,spur\\r\\nextract_338.png,spur\\r\\nextract_1141.png,short\\r\\nextract_1439.png,NOT\\r\\nextract_1205.png,NOT\\r\\nextract_590.png,spurious copper\\r\\nextract_575.png,short\\r\\nextract_703.png,spur\\r\\nextract_478.png,NOT\\r\\nextract_1250.png,spur\\r\\nextract_582.png,NOT\\r\\nextract_1428.png,spurious copper\\r\\nextract_678.png,NOT\\r\\nextract_1583.png,NOT\\r\\nextract_700.png,NOT\\r\\nextract_864.png,spur\\r\\nextract_1160.png,NOT\\r\\nextract_30.png,short\\r\\nextract_50.png,short\\r\\nextract_1340.png,NOT\\r\\nextract_996.png,NOT\\r\\nextract_1214.png,spur\\r\\nextract_482.png,spur\\r\\nextract_1497.png,NOT\\r\\nextract_1324.png,spurious copper\\r\\nextract_1284.png,spurious copper\\r\\nextract_695.png,spurious copper\\r\\nextract_1473.png,NOT\\r\\nextract_328.png,NOT\\r\\nextract_159.png,spurious copper\\r\\nextract_95.png,NOT\\r\\nextract_42.png,NOT\\r\\nextract_1206.png,NOT\\r\\nextract_1433.png,NOT\\r\\nextract_1562.png,spur\\r\\nextract_815.png,NOT\\r\\nextract_504.png,NOT\\r\\nextract_1353.png,short\\r\\nextract_593.png,spurious copper\\r\\nextract_1450.png,NOT\\r\\nextract_402.png,spur\\r\\nextract_1365.png,NOT\\r\\nextract_214.png,NOT\\r\\nextract_505.png,NOT\\r\\nextract_340.png,NOT\\r\\nextract_539.png,NOT\\r\\nextract_1254.png,NOT\\r\\nextract_951.png,NOT\\r\\nextract_1026.png,spurious copper\\r\\nextract_206.png,NOT\\r\\nextract_40.png,spurious copper\\r\\nextract_727.png,NOT\\r\\nextract_1632.png,NOT\\r\\nextract_1437.png,short\\r\\nextract_1448.png,NOT\\r\\nextract_1381.png,spurious copper\\r\\nextract_1066.png,short\\r\\nextract_259.png,NOT\\r\\nextract_1090.png,NOT\\r\\nextract_1665.png,spurious copper\\r\\nextract_780.png,NOT\\r\\nextract_1308.png,NOT\\r\\nextract_374.png,NOT\\r\\nextract_768.png,NOT\\r\\nextract_955.png,spur\\r\\nextract_146.png,NOT\\r\\nextract_130.png,spur\\r\\nextract_2.png,short\\r\\nextract_87.png,NOT\\r\\nextract_1019.png,NOT\\r\\nextract_9.png,NOT\\r\\nextract_469.png,spur\\r\\nextract_843.png,NOT\\r\\nextract_929.png,NOT\\r\\nextract_1587.png,spur\\r\\nextract_664.png,NOT\\r\\nextract_925.png,spurious copper\\r\\nextract_1012.png,NOT\\r\\nextract_787.png,spurious copper\\r\\nextract_1603.png,NOT\\r\\nextract_1058.png,NOT\\r\\nextract_1046.png,NOT\\r\\nextract_867.png,spurious copper\\r\\nextract_192.png,NOT\\r\\nextract_570.png,short\\r\\nextract_526.png,spurious copper\\r\\nextract_612.png,NOT\\r\\nextract_416.png,NOT\\r\\nextract_1667.png,spurious copper\\r\\nextract_1502.png,spurious copper\\r\\nextract_1064.png,NOT\\r\\nextract_279.png,spur\\r\\nextract_514.png,spur\\r\\nextract_483.png,NOT\\r\\nextract_655.png,spurious copper\\r\\nextract_172.png,NOT\\r\\nextract_239.png,NOT\\r\\nextract_4.png,NOT\\r\\nextract_1223.png,NOT\\r\\nextract_1342.png,NOT\\r\\nextract_750.png,NOT\\r\\nextract_66.png,NOT\\r\\nextract_553.png,spur\\r\\nextract_8.png,spurious copper\\r\\nextract_1416.png,NOT\\r\\nextract_1383.png,NOT\\r\\nextract_420.png,NOT\\r\\nextract_1642.png,short\\r\\nextract_952.png,NOT\\r\\nextract_194.png,short\\r\\nextract_204.png,spur\\r\\nextract_245.png,NOT\\r\\nextract_1490.png,spur\\r\\nextract_375.png,NOT\\r\\nextract_1354.png,NOT\\r\\nextract_1055.png,NOT\\r\\nextract_1441.png,NOT\\r\\nextract_936.png,NOT\\r\\nextract_1296.png,short\\r\\nextract_1648.png,NOT\\r\\nextract_1388.png,spurious copper\\r\\nextract_865.png,short\\r\\nextract_62.png,NOT\\r\\nextract_1210.png,NOT\\r\\nextract_706.png,NOT\\r\\nextract_602.png,NOT\\r\\nextract_124.png,short\\r\\nextract_491.png,NOT\\r\\nextract_202.png,NOT\\r\\nextract_1222.png,NOT\\r\\nextract_1273.png,NOT\\r\\nextract_216.png,NOT\\r\\nextract_99.png,NOT\\r\\nextract_190.png,NOT\\r\\nextract_449.png,short\\r\\nextract_1204.png,NOT\\r\\nextract_917.png,NOT\\r\\nextract_869.png,NOT\\r\\nextract_329.png,NOT\\r\\nextract_882.png,NOT\\r\\nextract_311.png,NOT\\r\\nextract_1618.png,spurious copper\\r\\nextract_1108.png,short\\r\\nextract_1621.png,short\\r\\nextract_841.png,NOT\\r\\nextract_994.png,NOT\\r\\nextract_164.png,spur\\r\\nextract_184.png,NOT\\r\\nextract_287.png,spurious copper\\r\\nextract_596.png,NOT\\r\\nextract_115.png,NOT\\r\\nextract_1447.png,NOT\\r\\nextract_500.png,NOT\\r\\nextract_624.png,spurious copper\\r\\nextract_330.png,NOT\\r\\nextract_1219.png,NOT\\r\\nextract_1460.png,short\\r\\nextract_1467.png,NOT\\r\\nextract_610.png,NOT\\r\\nextract_458.png,short\\r\\nextract_1094.png,spur\\r\\nextract_1325.png,spurious copper\\r\\nextract_1569.png,short\\r\\nextract_276.png,NOT\\r\\nextract_288.png,NOT\\r\\nextract_659.png,spur\\r\\nextract_1554.png,NOT\\r\\nextract_49.png,NOT\\r\\nextract_1521.png,spurious copper\\r\\nextract_718.png,NOT\\r\\nextract_189.png,spur\\r\\nextract_1146.png,spurious copper\\r\\nextract_1423.png,short\\r\\nextract_1380.png,NOT\\r\\nextract_1671.png,spur\\r\\nextract_1106.png,spur\\r\\nextract_1209.png,spur\\r\\nextract_51.png,NOT\\r\\nextract_904.png,NOT\\r\\nextract_1100.png,NOT\\r\\nextract_508.png,NOT\\r\\nextract_285.png,short\\r\\nextract_877.png,NOT\\r\\nextract_1045.png,NOT\\r\\nextract_1357.png,NOT\\r\\nextract_1600.png,NOT\\r\\nextract_573.png,spur\\r\\nextract_828.png,NOT\\r\\nextract_141.png,NOT\\r\\nextract_888.png,NOT\\r\\nextract_1215.png,NOT\\r\\nextract_853.png,NOT\\r\\nextract_623.png,spur\\r\\nextract_107.png,NOT\\r\\nextract_671.png,spurious copper\\r\\nextract_1683.png,NOT\\r\\nextract_1376.png,spur\\r\\nextract_1101.png,NOT\\r\\nextract_393.png,spur\\r\\nextract_186.png,spurious copper\\r\\nextract_566.png,spur\\r\\nextract_319.png,NOT\\r\\nextract_850.png,NOT\\r\\nextract_368.png,short\\r\\nextract_868.png,NOT\\r\\nextract_1592.png,short\\r\\nextract_1304.png,spur\\r\\nextract_1052.png,NOT\\r\\nextract_931.png,short\\r\\nextract_261.png,NOT\\r\\nextract_568.png,short\\r\\nextract_262.png,NOT\\r\\nextract_614.png,spur\\r\\nextract_266.png,NOT\\r\\nextract_1013.png,NOT\\r\\nextract_1531.png,NOT\\r\\nextract_1685.png,NOT\\r\\nextract_1346.png,NOT\\r\\nextract_1126.png,spurious copper\\r\\nextract_840.png,spur\\r\\nextract_369.png,NOT\\r\\nextract_825.png,NOT\\r\\nextract_1501.png,NOT\\r\\nextract_961.png,spur\\r\\nextract_64.png,NOT\\r\\nextract_178.png,NOT\\r\\nextract_1655.png,NOT\\r\\nextract_928.png,spurious copper\\r\\nextract_390.png,spurious copper\\r\\nextract_712.png,NOT\\r\\nextract_298.png,NOT\\r\\nextract_1208.png,NOT\\r\\nextract_1686.png,NOT\\r\\nextract_220.png,NOT\\r\\nextract_1135.png,spur\\r\\nextract_972.png,spurious copper\\r\\nextract_271.png,NOT\\r\\nextract_1552.png,short\\r\\nextract_1060.png,NOT\\r\\nextract_293.png,NOT\\r\\nextract_176.png,NOT\\r\\nextract_1337.png,NOT\\r\\nextract_1385.png,NOT\\r\\nextract_669.png,spurious copper\\r\\nextract_1095.png,NOT\\r\\nextract_767.png,NOT\\r\\nextract_270.png,NOT\\r\\nextract_605.png,NOT\\r\\nextract_111.png,spur\\r\\nextract_494.png,NOT\\r\\nextract_1230.png,short\\r\\nextract_1362.png,NOT\\r\\nextract_1517.png,NOT\\r\\nextract_1622.png,NOT\\r\\nextract_1295.png,spur\\r\\nextract_509.png,NOT\\r\\nextract_1150.png,spur\\r\\nextract_729.png,NOT\\r\\nextract_252.png,NOT\\r\\nextract_398.png,spurious copper\\r\\nextract_769.png,NOT\\r\\nextract_668.png,short\\r\\nextract_583.png,spurious copper\\r\\nextract_132.png,spur\\r\\nextract_1237.png,NOT\\r\\nextract_1234.png,NOT\\r\\nextract_1543.png,NOT\\r\\nextract_1589.png,NOT\\r\\nextract_1412.png,NOT\\r\\nextract_800.png,spur\\r\\nextract_250.png,NOT\\r\\nextract_450.png,short\\r\\nextract_1022.png,NOT\\r\\nextract_248.png,NOT\\r\\nextract_1470.png,short\\r\\nextract_1485.png,spur\\r\\nextract_100.png,NOT\\r\\nextract_1469.png,spur\\r\\nextract_776.png,NOT\\r\\nextract_1143.png,spurious copper\\r\\nextract_1500.png,spurious copper\\r\\nextract_1638.png,spurious copper\\r\\nextract_1425.png,NOT\\r\\nextract_1487.png,spurious copper\\r\\nextract_592.png,spurious copper\\r\\nextract_1477.png,NOT\\r\\nextract_1001.png,NOT\\r\\nextract_243.png,NOT\\r\\nextract_764.png,spurious copper\\r\\nextract_988.png,NOT\\r\\nextract_883.png,short\\r\\nextract_1709.png,spur\\r\\nextract_1691.png,NOT\\r\\nextract_154.png,short\\r\\nextract_1612.png,NOT\\r\\nextract_1670.png,spur\\r\\nextract_1279.png,NOT\\r\\nextract_557.png,spurious copper\\r\\nextract_1706.png,spurious copper\\r\\nextract_739.png,NOT\\r\\nextract_257.png,NOT\\r\\nextract_1278.png,NOT\\r\\nextract_1639.png,spurious copper\\r\\nextract_942.png,NOT\\r\\nextract_1660.png,NOT\\r\\nextract_713.png,NOT\\r\\nextract_1047.png,NOT\\r\\nextract_376.png,NOT\\r\\nextract_361.png,spur\\r\\nextract_409.png,spurious copper\\r\\nextract_110.png,NOT\\r\\nextract_1035.png,spurious copper\\r\\nextract_175.png,NOT\\r\\nextract_139.png,NOT\\r\\nextract_1656.png,NOT\\r\\nextract_987.png,NOT\\r\\nextract_394.png,short\\r\\nextract_1519.png,short\\r\\nextract_794.png,NOT\\r\\nextract_1535.png,short\\r\\nextract_691.png,spurious copper\\r\\nextract_1503.png,NOT\\r\\nextract_198.png,short\\r\\nextract_922.png,NOT\\r\\nextract_166.png,NOT\\r\\nextract_600.png,NOT\\r\\nextract_1030.png,NOT\\r\\nextract_244.png,NOT\\r\\nextract_1688.png,spur\\r\\nextract_1323.png,spur\\r\\nextract_1031.png,NOT\\r\\nextract_1453.png,NOT\\r\\nextract_1595.png,NOT\\r\\nextract_985.png,NOT\\r\\nextract_1105.png,NOT\\r\\nextract_1162.png,spur\\r\\nextract_1267.png,NOT\\r\\nextract_905.png,NOT\\r\\nextract_641.png,NOT\\r\\nextract_792.png,NOT\\r\\nextract_1307.png,short\\r\\nextract_96.png,NOT\\r\\nextract_1545.png,spurious copper\\r\\nextract_439.png,spurious copper\\r\\nextract_763.png,short\\r\\nextract_437.png,short\\r\\nextract_135.png,NOT\\r\\nextract_1241.png,NOT\\r\\nextract_939.png,NOT\\r\\nextract_335.png,NOT\\r\\nextract_532.png,NOT\\r\\nextract_183.png,NOT\\r\\nextract_255.png,NOT\\r\\nextract_932.png,spur\\r\\nextract_46.png,NOT\\r\\nextract_205.png,short\\r\\nextract_1669.png,spur\\r\\nextract_221.png,short\\r\\nextract_405.png,short\\r\\nextract_69.png,NOT\\r\\nextract_434.png,spur\\r\\nextract_675.png,NOT\\r\\nextract_1530.png,spur\\r\\nextract_920.png,NOT\\r\\nextract_1236.png,NOT\\r\\nextract_1082.png,NOT\\r\\nextract_1269.png,NOT\\r\\nextract_18.png,spurious copper\\r\\nextract_1281.png,NOT\\r\\nextract_930.png,NOT\\r\\nextract_1418.png,spur\\r\\nextract_721.png,NOT\\r\\nextract_1623.png,spur\\r\\nextract_564.png,NOT\\r\\nextract_1299.png,NOT\\r\\nextract_1540.png,spur\\r\\nextract_1584.png,NOT\\r\\nextract_603.png,NOT\\r\\nextract_778.png,spur\\r\\nextract_1179.png,NOT\\r\\nextract_737.png,spurious copper\\r\\nextract_1328.png,spurious copper\\r\\nextract_1570.png,NOT\\r\\nextract_1512.png,spur\\r\\nextract_1696.png,spurious copper\\r\\nextract_258.png,NOT\\r\\nextract_350.png,NOT\\r\\nextract_1609.png,NOT\\r\\nextract_1071.png,short\\r\\nextract_784.png,NOT\\r\\nextract_113.png,NOT\\r\\nextract_1249.png,spurious copper\\r\\nextract_535.png,NOT\\r\\nextract_59.png,spur\\r\\nextract_947.png,spurious copper\\r\\nextract_1272.png,NOT\\r\\nextract_197.png,NOT\\r\\nextract_1602.png,NOT\\r\\nextract_1301.png,NOT\\r\\nextract_684.png,NOT\\r\\nextract_801.png,short\\r\\nextract_1349.png,spurious copper\\r\\nextract_663.png,spur\\r\\nextract_1378.png,NOT\\r\\nextract_35.png,spur\\r\\nextract_1541.png,short\\r\\nextract_61.png,NOT\\r\\nextract_1248.png,spurious copper\\r\\nextract_488.png,NOT\\r\\nextract_463.png,spur\\r\\nextract_673.png,spurious copper\\r\\nextract_1489.png,spur\\r\\nextract_1226.png,NOT\\r\\nextract_1559.png,spurious copper\\r\\nextract_979.png,NOT\\r\\nextract_200.png,spur\\r\\nextract_981.png,NOT\\r\\nextract_796.png,spur\\r\\nextract_1221.png,NOT\\r\\nextract_1252.png,short\\r\\nextract_1407.png,NOT\\r\\nextract_325.png,NOT\\r\\nextract_901.png,spur\\r\\nextract_1553.png,NOT\\r\\nextract_636.png,NOT\\r\\nextract_1367.png,NOT\\r\\nextract_719.png,NOT\\r\\nextract_632.png,NOT\\r\\nextract_619.png,spur\\r\\nextract_823.png,NOT\\r\\nextract_364.png,short\\r\\nextract_964.png,short\\r\\nextract_863.png,spurious copper\\r\\nextract_472.png,NOT\\r\\nextract_1041.png,NOT\\r\\nextract_7.png,NOT\\r\\nextract_1422.png,spurious copper\\r\\nextract_426.png,spurious copper\\r\\nextract_210.png,NOT\\r\\nextract_915.png,NOT\\r\\nextract_1128.png,spurious copper\\r\\nextract_1629.png,NOT\\r\\nextract_968.png,spurious copper\\r\\nextract_1582.png,spur\\r\\nextract_717.png,NOT\\r\\nextract_1561.png,spurious copper\\r\\nextract_1403.png,spur\\r\\nextract_754.png,NOT\\r\\nextract_1393.png,NOT\\r\\nextract_902.png,NOT\\r\\nextract_1510.png,spur\\r\\nextract_1361.png,NOT\\r\\nextract_499.png,NOT\\r\\nextract_1156.png,spur\\r\\nextract_1070.png,short\\r\\nextract_938.png,spurious copper\\r\\nextract_347.png,NOT\\r\\nextract_1575.png,NOT\\r\\nextract_1334.png,NOT\\r\\nextract_401.png,spur\\r\\nextract_3.png,spurious copper\\r\\nextract_536.png,NOT\\r\\nextract_824.png,NOT\\r\\nextract_1579.png,NOT\\r\\nextract_807.png,spurious copper\\r\\nextract_1290.png,NOT\\r\\nextract_333.png,NOT\\r\\nextract_965.png,NOT\\r\\nextract_103.png,NOT\\r\\nextract_1710.png,spurious copper\\r\\nextract_628.png,spurious copper\\r\\nextract_1421.png,spur\\r\\nextract_1620.png,spur\\r\\nextract_1020.png,NOT\\r\\nextract_1182.png,NOT\\r\\nextract_546.png,short\\r\\nextract_295.png,NOT\\r\\nextract_1360.png,NOT\\r\\nextract_208.png,NOT\\r\\nextract_76.png,NOT\\r\\nextract_1663.png,short\\r\\nextract_1277.png,spurious copper\\r\\nextract_1344.png,short\\r\\nextract_1397.png,NOT\\r\\nextract_454.png,spur\\r\\nextract_525.png,NOT\\r\\nextract_253.png,NOT\\r\\nextract_446.png,spur\\r\\nextract_584.png,NOT\\r\\nextract_1233.png,NOT\\r\\nextract_372.png,NOT\\r\\nextract_811.png,spurious copper\\r\\nextract_656.png,NOT\\r\\nextract_1572.png,NOT\\r\\nextract_906.png,spurious copper\\r\\nextract_647.png,NOT\\r\\nextract_625.png,spur\\r\\nextract_1063.png,NOT\\r\\nextract_74.png,short\\r\\nextract_1409.png,short\\r\\nextract_289.png,spur\\r\\nextract_149.png,NOT\\r\\nextract_1085.png,spur\\r\\nextract_1560.png,NOT\\r\\nextract_1455.png,NOT\\r\\nextract_950.png,NOT\\r\\nextract_637.png,short\\r\\nextract_976.png,short\\r\\nextract_145.png,NOT\\r\\nextract_1486.png,short\\r\\nextract_507.png,NOT\\r\\nextract_980.png,spurious copper\\r\\nextract_60.png,NOT\\r\\nextract_1651.png,NOT\\r\\nextract_859.png,spur\\r\\nextract_1144.png,NOT\\r\\nextract_168.png,spur\\r\\nextract_106.png,NOT\\r\\nextract_1076.png,spur\\r\\nextract_1427.png,spurious copper\\r\\nextract_1033.png,NOT\\r\\nextract_334.png,NOT\\r\\nextract_973.png,spur\\r\\nextract_433.png,spurious copper\\r\\nextract_907.png,NOT\\r\\nextract_802.png,NOT\\r\\nextract_273.png,NOT\\r\\nextract_611.png,short\\r\\nextract_456.png,NOT\\r\\nextract_1617.png,NOT\\r\\nextract_389.png,spurious copper\\r\\nextract_1398.png,NOT\\r\\nextract_1259.png,spurious copper\\r\\nextract_548.png,spurious copper\\r\\nextract_1390.png,NOT\\r\\nextract_679.png,NOT\\r\\nextract_1.png,spur\\r\\nextract_887.png,NOT\\r\\nextract_1169.png,NOT\\r\\nextract_515.png,spur\\r\\nextract_736.png,NOT\\r\\nextract_1625.png,spurious copper\\r\\nextract_1499.png,NOT\\r\\nextract_580.png,spur\\r\\nextract_156.png,spurious copper\\r\\nextract_698.png,spur\\r\\nextract_1240.png,NOT\\r\\nextract_1537.png,spur\\r\\nextract_281.png,spurious copper\\r\\nextract_138.png,NOT\\r\\nextract_102.png,NOT\\r\\nextract_631.png,spurious copper\\r\\nextract_19.png,spur\\r\\nextract_809.png,spur\\r\\nextract_412.png,short\\r\\nextract_666.png,NOT\\r\\nextract_215.png,NOT\\r\\nextract_543.png,spurious copper\\r\\nextract_1265.png,NOT\\r\\nextract_775.png,spurious copper\\r\\nextract_1197.png,short\\r\\nextract_870.png,NOT\\r\\nextract_286.png,spur\\r\\nextract_958.png,NOT\\r\\nextract_531.png,NOT\\r\\nextract_365.png,spur\\r\\nextract_1274.png,NOT\\r\\nextract_1268.png,NOT\\r\\nextract_360.png,spurious copper\\r\\nextract_1556.png,NOT\\r\\nextract_1092.png,NOT\\r\\nextract_1192.png,NOT\\r\\nextract_1529.png,NOT\\r\\nextract_909.png,spur\\r\\nextract_1181.png,NOT\\r\\nextract_195.png,NOT\\r\\nextract_1176.png,NOT\\r\\nextract_1242.png,NOT\\r\\nextract_995.png,spur\\r\\nextract_1601.png,NOT\\r\\nextract_1611.png,NOT\\r\\nextract_58.png,NOT\\r\\nextract_1008.png,spur\\r\\nextract_1196.png,NOT\\r\\nextract_783.png,NOT\\r\\nextract_884.png,NOT\\r\\nextract_872.png,spur\\r\\nextract_1119.png,NOT\\r\\nextract_1394.png,NOT\\r\\nextract_908.png,NOT\\r\\nextract_941.png,spur\\r\\nextract_516.png,short\\r\\nextract_926.png,spur\\r\\nextract_1103.png,NOT\\r\\nextract_541.png,NOT\\r\\nextract_302.png,NOT\\r\\nextract_1391.png,NOT\\r\\nextract_1173.png,NOT\\r\\nextract_953.png,NOT\\r\\nextract_343.png,NOT\\r\\nextract_1507.png,spurious copper\\r\\nextract_1078.png,spurious copper\\r\\nextract_1675.png,short\\r\\nextract_1039.png,NOT\\r\\nextract_1061.png,spurious copper\\r\\nextract_1459.png,NOT\\r\\nextract_31.png,short\\r\\nextract_749.png,NOT\\r\\nextract_620.png,short\\r\\nextract_1086.png,spur\\r\\nextract_1059.png,NOT\\r\\nextract_486.png,spur\\r\\nextract_34.png,spur\\r\\nextract_72.png,NOT\\r\\nextract_874.png,NOT\\r\\nextract_1133.png,spur\\r\\nextract_187.png,spur\\r\\nextract_834.png,short\\r\\nextract_324.png,short\\r\\nextract_471.png,NOT\\r\\nextract_1011.png,NOT\\r\\nextract_615.png,spurious copper\\r\\nextract_1644.png,short\\r\\nextract_1624.png,NOT\\r\\nextract_218.png,NOT\\r\\nextract_598.png,NOT\\r\\nextract_305.png,spurious copper\\r\\nextract_1650.png,NOT\\r\\nextract_419.png,spurious copper\\r\\nextract_173.png,NOT\\r\\nextract_1599.png,NOT\\r\\nextract_1495.png,spur\\r\\nextract_1065.png,spurious copper\\r\\nextract_755.png,NOT\\r\\nextract_1040.png,NOT\\r\\nextract_1371.png,spur\\r\\nextract_1399.png,spur\\r\\nextract_1321.png,spur\\r\\nextract_1310.png,NOT\\r\\nextract_599.png,NOT\\r\\nextract_229.png,NOT\\r\\nextract_1703.png,short\\r\\nextract_1322.png,short\\r\\nextract_26.png,spurious copper\\r\\nextract_1235.png,NOT\\r\\nextract_1594.png,short\\r\\nextract_545.png,short\\r\\nextract_1566.png,NOT\\r\\nextract_559.png,NOT\\r\\nextract_759.png,NOT\\r\\nextract_320.png,NOT\\r\\nextract_1505.png,NOT\\r\\nextract_1224.png,NOT\\r\\nextract_657.png,short\\r\\nextract_761.png,NOT\\r\\nextract_38.png,NOT\\r\\nextract_862.png,short\\r\\nextract_975.png,spurious copper\\r\\nextract_881.png,NOT\\r\\nextract_1347.png,NOT\\r\\nextract_812.png,spur\\r\\nextract_1136.png,spur\\r\\nextract_1373.png,NOT\\r\\nextract_943.png,NOT\\r\\nextract_344.png,NOT\\r\\nextract_211.png,NOT\\r\\nextract_226.png,NOT\\r\\nextract_572.png,short\\r\\nextract_1355.png,NOT\\r\\nextract_1476.png,NOT\\r\\nextract_1148.png,spur\\r\\nextract_1581.png,NOT\\r\\nextract_1518.png,spur\\r\\nextract_174.png,NOT\\r\\nextract_816.png,NOT\\r\\nextract_1695.png,spurious copper\\r\\nextract_212.png,NOT\\r\\nextract_71.png,spurious copper\\r\\nextract_680.png,NOT\\r\\nextract_728.png,NOT\\r\\nextract_445.png,NOT\\r\\nextract_57.png,spur\\r\\nextract_1316.png,NOT\\r\\nextract_400.png,spur\\r\\nextract_1302.png,NOT\\r\\nextract_1443.png,spurious copper\\r\\nextract_219.png,NOT\\r\\nextract_896.png,NOT\\r\\nextract_160.png,short\\r\\nextract_1546.png,NOT\\r\\nextract_1649.png,spurious copper\\r\\nextract_1068.png,spur\\r\\nextract_1498.png,spur\\r\\nextract_222.png,NOT\\r\\nextract_352.png,spur\\r\\nextract_1109.png,NOT\\r\\nextract_621.png,spurious copper\\r\\nextract_502.png,NOT\\r\\nextract_322.png,NOT\\r\\nextract_485.png,short\\r\\nextract_125.png,NOT\\r\\nextract_1177.png,NOT\\r\\nextract_889.png,spur\\r\\nextract_752.png,NOT\\r\\nextract_1356.png,NOT\\r\\nextract_461.png,spur\\r\\nextract_1382.png,NOT\\r\\nextract_1027.png,spur\\r\\nextract_207.png,NOT\\r\\nextract_1571.png,NOT\\r\\nextract_652.png,NOT\\r\\nextract_47.png,spurious copper\\r\\nextract_249.png,NOT\\r\\nextract_715.png,NOT\\r\\nextract_1509.png,short\\r\\nextract_1253.png,NOT\\r\\nextract_1440.png,NOT\\r\\nextract_157.png,spurious copper\\r\\nextract_1684.png,spurious copper\\r\\nextract_1401.png,short\\r\\nextract_1659.png,NOT\\r\\nextract_1463.png,spur\\r\\nextract_1341.png,NOT\\r\\nextract_1186.png,NOT\\r\\nextract_1275.png,spur\\r\\nextract_1359.png,spur\\r\\nextract_1672.png,spurious copper\\r\\nextract_5.png,spur\\r\\nextract_722.png,NOT\\r\\nextract_814.png,spurious copper\\r\\nextract_123.png,NOT\\r\\nextract_1542.png,NOT\\r\\nextract_766.png,spur\\r\\nextract_847.png,NOT\\r\\nextract_956.png,NOT\\r\\nextract_1494.png,spurious copper\\r\\nextract_1631.png,short\\r\\nextract_233.png,NOT\\r\\nextract_597.png,NOT\\r\\nextract_658.png,NOT\\r\\nextract_963.png,NOT\\r\\nextract_644.png,NOT\\r\\nextract_1410.png,NOT\\r\\nextract_707.png,NOT\\r\\nextract_1547.png,spurious copper\\r\\nextract_351.png,NOT\\r\\nextract_555.png,spur\\r\\nextract_524.png,NOT\\r\\nextract_468.png,short\\r\\nextract_1533.png,short\\r\\nextract_880.png,NOT\\r\\nextract_1331.png,NOT\\r\\nextract_734.png,NOT\\r\\nextract_455.png,NOT\\r\\nextract_1079.png,NOT\\r\\nextract_1212.png,short\\r\\nextract_1200.png,spurious copper\\r\\nextract_1576.png,NOT\\r\\nextract_493.png,spur\\r\\nextract_512.png,NOT\\r\\nextract_1538.png,spurious copper\\r\\nextract_1636.png,NOT\\r\\nextract_1713.png,NOT\\r\\nextract_1488.png,short\\r\\nextract_1073.png,NOT\\r\\nextract_447.png,NOT\\r\\nextract_20.png,spurious copper\\r\\nextract_724.png,NOT\\r\\nextract_303.png,NOT\\r\\nextract_1693.png,short\\r\\nextract_1717.png,NOT\\r\\nextract_1478.png,NOT\\r\\nextract_163.png,spur\\r\\nextract_1619.png,spur\\r\\nextract_1458.png,NOT\\r\\nextract_948.png,spur\\r\\nextract_1484.png,short\\r\\nextract_1375.png,spur\\r\\nextract_256.png,NOT\\r\\nextract_1716.png,NOT\\r\\nextract_1634.png,NOT\\r\\nextract_1464.png,NOT\\r\\nextract_757.png,NOT\\r\\nextract_578.png,spur\\r\\nextract_119.png,NOT\\r\\nextract_395.png,short\\r\\nextract_1190.png,NOT\\r\\nextract_781.png,NOT\\r\\nextract_12.png,NOT\\r\\nextract_944.png,NOT\\r\\nextract_1687.png,spur\\r\\nextract_885.png,spurious copper\\r\\nextract_117.png,NOT\\r\\nextract_1036.png,NOT\\r\\nextract_181.png,NOT\\r\\nextract_1392.png,NOT\\r\\nextract_1350.png,NOT\\r\\nextract_969.png,spur\\r\\nextract_408.png,short\\r\\nextract_919.png,short\\r\\nextract_86.png,NOT\\r\\nextract_23.png,short\\r\\nextract_254.png,NOT\\r\\nextract_1701.png,short\\r\\nextract_6.png,NOT\\r\\nextract_743.png,NOT\\r\\nextract_852.png,NOT\\r\\nextract_81.png,NOT\\r\\nextract_1606.png,spur\\r\\nextract_227.png,spur\\r\\nextract_346.png,NOT\\r\\nextract_1016.png,NOT\\r\\nextract_1386.png,NOT\\r\\nextract_133.png,NOT\\r\\nextract_1454.png,NOT\\r\\nextract_80.png,NOT\\r\\nextract_1395.png,NOT\\r\\nextract_1527.png,spur\\r\\nextract_758.png,NOT\\r\\nextract_1466.png,spur\\r\\nextract_97.png,NOT\\r\\nextract_627.png,spurious copper\\r\\nextract_242.png,NOT\\r\\nextract_1188.png,NOT\\r\\nextract_1121.png,spurious copper\\r\\nextract_649.png,NOT\\r\\nextract_1682.png,spurious copper\\r\\nextract_213.png,NOT\\r\\nextract_1025.png,spurious copper\\r\\nextract_484.png,NOT\\r\\nextract_498.png,NOT\\r\\nextract_709.png,NOT\\r\\nextract_817.png,spur\\r\\nextract_1220.png,spurious copper\\r\\nextract_24.png,spur\\r\\nextract_789.png,spurious copper\\r\\nextract_1074.png,spur\\r\\nextract_653.png,NOT\\r\\nextract_1431.png,short\\r\\nextract_1111.png,NOT\\r\\nextract_552.png,short\\r\\nextract_1516.png,short\\r\\nextract_990.png,NOT\\r\\nextract_892.png,NOT\\r\\nextract_741.png,NOT\\r\\nextract_1525.png,NOT\\r\\nextract_436.png,spurious copper\\r\\nextract_1053.png,spur\\r\\nextract_1698.png,spur\\r\\nextract_33.png,short\\r\\nextract_771.png,short\\r\\nextract_665.png,spurious copper\\r\\nextract_726.png,NOT\\r\\nextract_1396.png,spur\\r\\nextract_120.png,NOT\\r\\nextract_1168.png,spur\\r\\nextract_935.png,NOT\\r\\nextract_37.png,NOT\\r\\nextract_1645.png,NOT\\r\\nextract_1261.png,NOT\\r\\nextract_421.png,spur\\r\\nextract_109.png,NOT\\r\\nextract_217.png,NOT\\r\\nextract_1175.png,short\\r\\nextract_78.png,NOT\\r\\nextract_1432.png,NOT\\r\\nextract_1333.png,NOT\\r\\nextract_1329.png,short\\r\\nextract_1153.png,NOT\\r\\nextract_265.png,NOT\\r\\nextract_1229.png,NOT\\r\\nextract_533.png,short\\r\\nextract_1708.png,short\\r\\nextract_747.png,NOT\\r\\nextract_1123.png,short\\r\\nextract_730.png,short\\r\\nextract_1673.png,spur\\r\\nextract_692.png,short\\r\\nextract_638.png,NOT\\r\\nextract_251.png,NOT\\r\\nextract_77.png,NOT\\r\\nextract_476.png,NOT\\r\\nextract_1154.png,NOT\\r\\nextract_464.png,NOT\\r\\nextract_528.png,NOT\\r\\nextract_540.png,spurious copper\\r\\nextract_1424.png,spur\\r\\nextract_232.png,NOT\\r\\nextract_1132.png,spur\\r\\nextract_927.png,NOT\\r\\nextract_84.png,NOT\\r\\nextract_142.png,spurious copper\\r\\nextract_1099.png,NOT\\r\\nextract_1184.png,NOT\\r\\nextract_451.png,NOT\\r\\nextract_626.png,short\\r\\nextract_1185.png,NOT\\r\\nextract_22.png,spur\\r\\nextract_886.png,NOT\\r\\nextract_940.png,short\\r\\nextract_1125.png,spurious copper\\r\\nextract_75.png,spurious copper\\r\\nextract_490.png,short\\r\\nextract_1062.png,spur\\r\\nextract_992.png,NOT\\r\\nextract_1314.png,NOT\\r\\nextract_129.png,NOT\\r\\nextract_1034.png,NOT\\r\\nextract_1116.png,spur\\r\\nextract_954.png,NOT\\r\\nextract_674.png,spur\\r\\nextract_667.png,NOT\\r\\nextract_1480.png,NOT\\r\\nextract_1352.png,NOT\\r\\nextract_1081.png,short\\r\\nextract_1017.png,NOT\\r\\nextract_155.png,short\\r\\nextract_1189.png,NOT\\r\\nextract_735.png,NOT\\r\\nextract_105.png,NOT\\r\\nextract_662.png,short\\r\\nextract_381.png,NOT\\r\\nextract_1056.png,NOT\\r\\nextract_1067.png,spur\\r\\nextract_1483.png,spurious copper\\r\\nextract_423.png,spurious copper\\r\\nextract_1087.png,spur\\r\\nextract_1524.png,NOT\\r\\nextract_161.png,short\\r\\nextract_193.png,NOT\\r\\nextract_517.png,spurious copper\\r\\nextract_10.png,short\\r\\nextract_1414.png,NOT\\r\\nextract_723.png,NOT\\r\\nextract_231.png,NOT\\r\\nextract_91.png,NOT\\r\\nextract_1641.png,spur\\r\\nextract_93.png,NOT\\r\\nextract_297.png,spurious copper\\r\\nextract_1231.png,NOT\\r\\nextract_448.png,spurious copper\\r\\nextract_496.png,short\\r\\nextract_1300.png,NOT\\r\\nextract_1446.png,NOT\\r\\nextract_773.png,spurious copper\\r\\nextract_558.png,spur\\r\\nextract_1084.png,short\\r\\nextract_1514.png,NOT\\r\\nextract_837.png,short\\r\\nextract_177.png,NOT\\r\\nextract_236.png,short\\r\\nextract_714.png,NOT\\r\\nextract_822.png,spurious copper\\r\\nextract_1007.png,spur\\r\\nextract_1194.png,NOT\\r\\nextract_1358.png,NOT\\r\\nextract_762.png,NOT\\r\\nextract_897.png,NOT\\r\\nextract_1010.png,spur\\r\\nextract_1598.png,short\\r\\nextract_835.png,short\\r\\nextract_856.png,spurious copper\\r\\nextract_1551.png,spur\\r\\nextract_284.png,spur\\r\\nextract_477.png,NOT\\r\\nextract_1211.png,NOT\\r\\nextract_586.png,spur\\r\\nextract_1004.png,spurious copper\\r\\nextract_263.png,NOT\\r\\nextract_565.png,NOT\\r\\nextract_403.png,spurious copper\\r\\nextract_1332.png,NOT\\r\\nextract_1707.png,spur\\r\\nextract_654.png,NOT\\r\\nextract_701.png,short\\r\\nextract_782.png,NOT\\r\\nextract_414.png,spurious copper\\r\\nextract_112.png,NOT\\r\\nextract_150.png,NOT\\r\\nextract_1544.png,NOT\\r\\nextract_770.png,spur\\r\\nextract_1345.png,NOT\\r\\nextract_432.png,spur\\r\\nextract_225.png,NOT\\r\\nextract_1548.png,spurious copper\\r\\nextract_165.png,spurious copper\\r\\nextract_358.png,NOT\\r\\nextract_974.png,spur\\r\\nextract_180.png,NOT\\r\\nextract_686.png,NOT\\r\\nextract_169.png,NOT\\r\\nextract_1243.png,NOT\\r\\nextract_1306.png,NOT\\r\\nextract_648.png,NOT\\r\\nextract_830.png,NOT\\r\\nextract_1069.png,spur\\r\\nextract_704.png,short\\r\\nextract_41.png,NOT\\r\\nextract_1445.png,NOT\\r\\nextract_1174.png,spurious copper\\r\\nextract_1449.png,NOT\\r\\nextract_1596.png,spurious copper\\r\\nextract_604.png,NOT\\r\\nextract_1163.png,spur'}"
      ]
     },
     "execution_count": 19,
     "metadata": {
      "tags": []
     },
     "output_type": "execute_result"
    }
   ],
   "source": [
    "from google.colab import files\n",
    "files.upload()"
   ]
  },
  {
   "cell_type": "markdown",
   "metadata": {
    "id": "CGahGJXKYN5Z",
    "colab_type": "text"
   },
   "source": [
    "### Convert labelled data CSVt to dataframe"
   ]
  },
  {
   "cell_type": "code",
   "execution_count": 0,
   "metadata": {
    "id": "bWi2WGkpYRP5",
    "colab_type": "code",
    "colab": {}
   },
   "outputs": [],
   "source": [
    "image_labels_frame = csv_to_dataframe(**{\n",
    "    \"path_to_csv\" : \"image_labels.csv\"\n",
    "})"
   ]
  },
  {
   "cell_type": "markdown",
   "metadata": {
    "id": "AAVuBBVLYzwf",
    "colab_type": "text"
   },
   "source": [
    "### Check Class Balance"
   ]
  },
  {
   "cell_type": "code",
   "execution_count": 0,
   "metadata": {
    "id": "9LypSgmHYbVn",
    "colab_type": "code",
    "colab": {}
   },
   "outputs": [],
   "source": [
    "labelled_counts = get_feature_counts(**{\n",
    "    \"data_frame\" : image_labels_frame, \n",
    "    \"feature\" : \"label\"\n",
    "})"
   ]
  },
  {
   "cell_type": "code",
   "execution_count": 22,
   "metadata": {
    "id": "83ap0Nc_ZRE9",
    "colab_type": "code",
    "outputId": "a8a082d8-a041-4bc1-c9a2-bfeb57689c68",
    "colab": {
     "base_uri": "https://localhost:8080/",
     "height": 363.0
    }
   },
   "outputs": [
    {
     "data": {
      "image/png": "[encoded data removed]",
      "text/plain": [
       "<Figure size 1008x288 with 1 Axes>"
      ]
     },
     "metadata": {
      "tags": []
     },
     "output_type": "display_data"
    }
   ],
   "source": [
    "import matplotlib.pyplot as plt\n",
    "from pylab import rcParams\n",
    "rcParams['figure.figsize'] = 14, 4\n",
    "rcParams['text.color'] = \"white\"\n",
    "rcParams['axes.labelcolor'] = \"white\"\n",
    "rcParams['xtick.color'] = \"white\"\n",
    "rcParams['ytick.color'] = \"white\"\n",
    "\n",
    "index = np.arange(len(labelled_counts.keys()))\n",
    "plt.bar(index, list(labelled_counts.values()))\n",
    "plt.xlabel('Defect Type', fontsize=10)\n",
    "plt.ylabel('Count', fontsize=10)\n",
    "plt.xticks(index, labelled_counts.keys(), fontsize=5, rotation=30)\n",
    "plt.xticks(fontsize=16)\n",
    "plt.yticks(fontsize=16)\n",
    "plt.title('Defect Class Balance')\n",
    "plt.show()"
   ]
  },
  {
   "cell_type": "markdown",
   "metadata": {
    "id": "EQj7Xd8yJblP",
    "colab_type": "text"
   },
   "source": [
    "### Create new directory for training CSVs"
   ]
  },
  {
   "cell_type": "code",
   "execution_count": 0,
   "metadata": {
    "id": "l-4fsa-uJmxu",
    "colab_type": "code",
    "colab": {}
   },
   "outputs": [],
   "source": [
    "directory(**{\n",
    "    \"choice\" : \"make\",\n",
    "    \"directory_path\" : \"training_csvs\"\n",
    "})"
   ]
  },
  {
   "cell_type": "markdown",
   "metadata": {
    "id": "SIRY-UlUTEab",
    "colab_type": "text"
   },
   "source": [
    "### Create individual CSV files for each CLASS"
   ]
  },
  {
   "cell_type": "code",
   "execution_count": 0,
   "metadata": {
    "id": "Ei7bXwa4TQhI",
    "colab_type": "code",
    "colab": {}
   },
   "outputs": [],
   "source": [
    "spur = []\n",
    "short = []\n",
    "spurious = []\n",
    "not_defect = []\n",
    "for index, row in image_labels_frame.iterrows():\n",
    "  if(row[1] == 'spur'):\n",
    "    spur.append(row[0])\n",
    "  if(row[1] == 'short'):\n",
    "    short.append(row[0])\n",
    "  if(row[1] == 'spurious copper'):\n",
    "    spurious.append(row[0])\n",
    "  if(row[1] == 'NOT'):\n",
    "    not_defect.append(row[0])"
   ]
  },
  {
   "cell_type": "code",
   "execution_count": 0,
   "metadata": {
    "id": "D6Rk1QBLUWuM",
    "colab_type": "code",
    "colab": {}
   },
   "outputs": [],
   "source": [
    "df_spur = pd.DataFrame(spur)\n",
    "df_spur.to_csv(\"spur.csv\", sep=',',index=False)\n",
    "\n",
    "df_short = pd.DataFrame(short)\n",
    "df_short.to_csv(\"short.csv\", sep=',',index=False)\n",
    "\n",
    "df_spurious = pd.DataFrame(spurious)\n",
    "df_spurious.to_csv(\"spurious.csv\", sep=',',index=False)\n",
    "\n",
    "df_not_defect = pd.DataFrame(not_defect)\n",
    "df_not_defect.to_csv(\"not_defect.csv\", sep=',',index=False)"
   ]
  },
  {
   "cell_type": "markdown",
   "metadata": {
    "id": "bBtnkplGUz-N",
    "colab_type": "text"
   },
   "source": [
    "### Create Directories for CSV files (needed for FastAI)"
   ]
  },
  {
   "cell_type": "code",
   "execution_count": 0,
   "metadata": {
    "id": "WH2lSp12Ubg_",
    "colab_type": "code",
    "colab": {}
   },
   "outputs": [],
   "source": [
    "for folder in ['short', 'spur', 'spurious', 'not_defect']:\n",
    "    directory(**{\n",
    "        \"choice\" : \"make\",\n",
    "        \"directory_path\" : \"training_csvs/\" + folder\n",
    "    })"
   ]
  },
  {
   "cell_type": "markdown",
   "metadata": {
    "id": "woC6WRnMXEDB",
    "colab_type": "text"
   },
   "source": [
    "### Move CSV files to all_extracts directory"
   ]
  },
  {
   "cell_type": "code",
   "execution_count": 0,
   "metadata": {
    "id": "sbFTVFFzVD6a",
    "colab_type": "code",
    "colab": {}
   },
   "outputs": [],
   "source": [
    "move_files(**{\n",
    "    \"file_paths\" : [\"short.csv\", \"spur.csv\", \"spurious.csv\", \"not_defect.csv\"],\n",
    "    \"target_directory\" : \"training_csvs/\"\n",
    "})"
   ]
  },
  {
   "cell_type": "markdown",
   "metadata": {
    "id": "-MwqrIlBWQu5",
    "colab_type": "text"
   },
   "source": [
    "### Move extracted defect images into respective folders based on labels in CSV files\n",
    "#### Be sure to use the same image folder that was used to for Defect Turking. If you've restarted/rerun this pipeline since turking, upload the older image ZIP file (see Medium article for details)"
   ]
  },
  {
   "cell_type": "code",
   "execution_count": 0,
   "metadata": {
    "id": "CZWdtnhBHhht",
    "colab_type": "code",
    "colab": {}
   },
   "outputs": [],
   "source": [
    "# if needed\n",
    "files.upload()"
   ]
  },
  {
   "cell_type": "code",
   "execution_count": 0,
   "metadata": {
    "id": "qSVsjqvlITjm",
    "colab_type": "code",
    "colab": {}
   },
   "outputs": [],
   "source": [
    "# if needed\n",
    "move_files(**{\n",
    "    \"file_paths\" : [\"defect_images_or.zip\"],\n",
    "    \"target_directory\" : \"training_csvs\"\n",
    "})"
   ]
  },
  {
   "cell_type": "code",
   "execution_count": 0,
   "metadata": {
    "id": "J90_w7YkKmrV",
    "colab_type": "code",
    "colab": {}
   },
   "outputs": [],
   "source": [
    "# if needed\n",
    "import zipfile\n",
    "with zipfile.ZipFile(\"training_csvs/defect_images_or.zip\", 'r') as zip_ref:\n",
    "    zip_ref.extractall(\"training_csvs/\")"
   ]
  },
  {
   "cell_type": "code",
   "execution_count": 0,
   "metadata": {
    "id": "0If6PjDXWSeB",
    "colab_type": "code",
    "colab": {}
   },
   "outputs": [],
   "source": [
    "path = \"training_csvs/\"\n",
    "\n",
    "for index, row in df_spur.iterrows():    \n",
    "    from_path = path + row[0]\n",
    "    to_path = path + \"/spur/\" + row[0]\n",
    "    move_files(**{\n",
    "        \"file_paths\" : [from_path],\n",
    "        \"target_directory\" : to_path\n",
    "    })\n",
    "    \n",
    "for index, row in df_short.iterrows():    \n",
    "    from_path = path + row[0]\n",
    "    to_path = path + \"/short/\" + row[0]\n",
    "    move_files(**{\n",
    "        \"file_paths\" : [from_path],\n",
    "        \"target_directory\" : to_path\n",
    "    })\n",
    "    \n",
    "for index, row in df_spurious.iterrows():    \n",
    "    from_path = path + row[0]\n",
    "    to_path = path + \"/spurious/\" + row[0]\n",
    "    move_files(**{\n",
    "        \"file_paths\" : [from_path],\n",
    "        \"target_directory\" : to_path\n",
    "    })\n",
    "\n",
    "for index, row in df_not_defect.iterrows():    \n",
    "    from_path = path + row[0]\n",
    "    to_path = path + \"/not_defect/\" + row[0]\n",
    "    move_files(**{\n",
    "        \"file_paths\" : [from_path],\n",
    "        \"target_directory\" : to_path\n",
    "    })"
   ]
  },
  {
   "cell_type": "code",
   "execution_count": 0,
   "metadata": {
    "id": "WkpLZCyTcivm",
    "colab_type": "code",
    "colab": {}
   },
   "outputs": [],
   "source": [
    "# remove any PNG files not labelled \n",
    "for item in os.listdir('training_csvs/'):\n",
    "    if item.endswith(\".png\"):\n",
    "        os.remove(os.path.join('training_csvs/', item))"
   ]
  },
  {
   "cell_type": "markdown",
   "metadata": {
    "id": "Z77yWF76YY6h",
    "colab_type": "text"
   },
   "source": [
    "### Read in image data"
   ]
  },
  {
   "cell_type": "code",
   "execution_count": 0,
   "metadata": {
    "id": "QLhMnT8vWSit",
    "colab_type": "code",
    "colab": {}
   },
   "outputs": [],
   "source": [
    "np.random.seed(42)\n",
    "data = ImageDataBunch.from_folder(path, train='.', valid_pct=0.2, ds_tfms=get_transforms(), size=224, num_workers=4, bs=10).normalize(imagenet_stats)"
   ]
  },
  {
   "cell_type": "markdown",
   "metadata": {
    "id": "Uz7QLQ-6YuOW",
    "colab_type": "text"
   },
   "source": [
    "### Inspect Images to Confirm Read Properly"
   ]
  },
  {
   "cell_type": "code",
   "execution_count": 48,
   "metadata": {
    "id": "tiWDeTlIYcls",
    "colab_type": "code",
    "outputId": "e98144d4-0ec2-4dd9-86fe-292e725a7853",
    "colab": {
     "base_uri": "https://localhost:8080/",
     "height": 585.0
    }
   },
   "outputs": [
    {
     "data": {
      "image/png": "[encoded data removed]",
      "text/plain": [
       "<Figure size 504x576 with 16 Axes>"
      ]
     },
     "metadata": {
      "tags": []
     },
     "output_type": "display_data"
    }
   ],
   "source": [
    "data.show_batch(rows=4, figsize=(7, 8))"
   ]
  },
  {
   "cell_type": "markdown",
   "metadata": {
    "id": "F0SSe0z9ZBqg",
    "colab_type": "text"
   },
   "source": [
    "### Train Model"
   ]
  },
  {
   "cell_type": "code",
   "execution_count": 49,
   "metadata": {
    "id": "Hd7VRLARYxS_",
    "colab_type": "code",
    "outputId": "a0b21f78-5843-4906-b827-709354469c68",
    "colab": {
     "base_uri": "https://localhost:8080/",
     "height": 105.0
    }
   },
   "outputs": [
    {
     "name": "stderr",
     "output_type": "stream",
     "text": [
      "/usr/local/lib/python3.6/dist-packages/fastai/vision/learner.py:106: UserWarning: `create_cnn` is deprecated and is now named `cnn_learner`.\n",
      "  warn(\"`create_cnn` is deprecated and is now named `cnn_learner`.\")\n",
      "Downloading: \"https://download.pytorch.org/models/resnet34-333f7ec4.pth\" to /root/.torch/models/resnet34-333f7ec4.pth\n",
      "100%|██████████| 87306240/87306240 [00:01<00:00, 54400564.23it/s]\n"
     ]
    }
   ],
   "source": [
    "from fastai.metrics import error_rate # 1 - accuracy\n",
    "learn = create_cnn(data, models.resnet34, metrics=error_rate)"
   ]
  },
  {
   "cell_type": "markdown",
   "metadata": {
    "id": "oKuw5nRqZK8B",
    "colab_type": "text"
   },
   "source": [
    "### Use fit_one_cycle to change the learning rate over time (use GPU)"
   ]
  },
  {
   "cell_type": "code",
   "execution_count": 50,
   "metadata": {
    "id": "ekqcFJvrZD9d",
    "colab_type": "code",
    "outputId": "e13362f0-2adc-4831-d18e-3c11207bff08",
    "colab": {
     "base_uri": "https://localhost:8080/",
     "height": 359.0
    }
   },
   "outputs": [
    {
     "data": {
      "text/html": [
       "<table border=\"1\" class=\"dataframe\">\n",
       "  <thead>\n",
       "    <tr style=\"text-align: left;\">\n",
       "      <th>epoch</th>\n",
       "      <th>train_loss</th>\n",
       "      <th>valid_loss</th>\n",
       "      <th>error_rate</th>\n",
       "      <th>time</th>\n",
       "    </tr>\n",
       "  </thead>\n",
       "  <tbody>\n",
       "    <tr>\n",
       "      <td>0</td>\n",
       "      <td>1.095103</td>\n",
       "      <td>0.446376</td>\n",
       "      <td>0.128713</td>\n",
       "      <td>04:17</td>\n",
       "    </tr>\n",
       "    <tr>\n",
       "      <td>1</td>\n",
       "      <td>0.707020</td>\n",
       "      <td>0.294207</td>\n",
       "      <td>0.108911</td>\n",
       "      <td>04:12</td>\n",
       "    </tr>\n",
       "    <tr>\n",
       "      <td>2</td>\n",
       "      <td>0.528814</td>\n",
       "      <td>0.232911</td>\n",
       "      <td>0.089109</td>\n",
       "      <td>04:13</td>\n",
       "    </tr>\n",
       "    <tr>\n",
       "      <td>3</td>\n",
       "      <td>0.399699</td>\n",
       "      <td>0.212845</td>\n",
       "      <td>0.079208</td>\n",
       "      <td>04:12</td>\n",
       "    </tr>\n",
       "    <tr>\n",
       "      <td>4</td>\n",
       "      <td>0.374707</td>\n",
       "      <td>0.191185</td>\n",
       "      <td>0.074257</td>\n",
       "      <td>04:12</td>\n",
       "    </tr>\n",
       "    <tr>\n",
       "      <td>5</td>\n",
       "      <td>0.338945</td>\n",
       "      <td>0.140814</td>\n",
       "      <td>0.044554</td>\n",
       "      <td>04:09</td>\n",
       "    </tr>\n",
       "    <tr>\n",
       "      <td>6</td>\n",
       "      <td>0.300264</td>\n",
       "      <td>0.140626</td>\n",
       "      <td>0.064356</td>\n",
       "      <td>04:11</td>\n",
       "    </tr>\n",
       "    <tr>\n",
       "      <td>7</td>\n",
       "      <td>0.246102</td>\n",
       "      <td>0.161271</td>\n",
       "      <td>0.049505</td>\n",
       "      <td>04:11</td>\n",
       "    </tr>\n",
       "    <tr>\n",
       "      <td>8</td>\n",
       "      <td>0.271339</td>\n",
       "      <td>0.129381</td>\n",
       "      <td>0.049505</td>\n",
       "      <td>04:12</td>\n",
       "    </tr>\n",
       "    <tr>\n",
       "      <td>9</td>\n",
       "      <td>0.209971</td>\n",
       "      <td>0.129171</td>\n",
       "      <td>0.054455</td>\n",
       "      <td>04:10</td>\n",
       "    </tr>\n",
       "  </tbody>\n",
       "</table>"
      ],
      "text/plain": [
       "<IPython.core.display.HTML object>"
      ]
     },
     "metadata": {
      "tags": []
     },
     "output_type": "execute_result"
    }
   ],
   "source": [
    "defaults.device = torch.device('cuda')\n",
    "learn.fit_one_cycle(10)"
   ]
  },
  {
   "cell_type": "markdown",
   "metadata": {
    "id": "8K1Vp9Jfh4si",
    "colab_type": "text"
   },
   "source": [
    ""
   ]
  },
  {
   "cell_type": "markdown",
   "metadata": {
    "id": "u5ldWYDZh6wA",
    "colab_type": "text"
   },
   "source": [
    "### Find better learning rates using lr_find, and use recorder.plot to create a plot that relates the learning rate with the loss."
   ]
  },
  {
   "cell_type": "code",
   "execution_count": 58,
   "metadata": {
    "id": "Cvytmtx7h7Qz",
    "colab_type": "code",
    "colab": {
     "base_uri": "https://localhost:8080/",
     "height": 112.0
    },
    "outputId": "7027def1-2e4e-4ae0-d7e8-6241f5f019a2"
   },
   "outputs": [
    {
     "data": {
      "text/html": [
       "\n",
       "    <div>\n",
       "        <style>\n",
       "            /* Turns off some styling */\n",
       "            progress {\n",
       "                /* gets rid of default border in Firefox and Opera. */\n",
       "                border: none;\n",
       "                /* Needs to be in here for Safari polyfill so background images work as expected. */\n",
       "                background-size: auto;\n",
       "            }\n",
       "            .progress-bar-interrupted, .progress-bar-interrupted::-webkit-progress-bar {\n",
       "                background: #F44336;\n",
       "            }\n",
       "        </style>\n",
       "      <progress value='0' class='' max='2', style='width:300px; height:20px; vertical-align: middle;'></progress>\n",
       "      0.00% [0/2 00:00<00:00]\n",
       "    </div>\n",
       "    \n",
       "<table border=\"1\" class=\"dataframe\">\n",
       "  <thead>\n",
       "    <tr style=\"text-align: left;\">\n",
       "      <th>epoch</th>\n",
       "      <th>train_loss</th>\n",
       "      <th>valid_loss</th>\n",
       "      <th>error_rate</th>\n",
       "      <th>time</th>\n",
       "    </tr>\n",
       "  </thead>\n",
       "  <tbody>\n",
       "  </tbody>\n",
       "</table><p>\n",
       "\n",
       "    <div>\n",
       "        <style>\n",
       "            /* Turns off some styling */\n",
       "            progress {\n",
       "                /* gets rid of default border in Firefox and Opera. */\n",
       "                border: none;\n",
       "                /* Needs to be in here for Safari polyfill so background images work as expected. */\n",
       "                background-size: auto;\n",
       "            }\n",
       "            .progress-bar-interrupted, .progress-bar-interrupted::-webkit-progress-bar {\n",
       "                background: #F44336;\n",
       "            }\n",
       "        </style>\n",
       "      <progress value='3' class='' max='80', style='width:300px; height:20px; vertical-align: middle;'></progress>\n",
       "      3.75% [3/80 00:13<05:52 0.1579]\n",
       "    </div>\n",
       "    "
      ],
      "text/plain": [
       "<IPython.core.display.HTML object>"
      ]
     },
     "metadata": {
      "tags": []
     },
     "output_type": "execute_result"
    },
    {
     "name": "stdout",
     "output_type": "stream",
     "text": [
      "LR Finder is complete, type {learner_name}.recorder.plot() to see the graph.\n"
     ]
    }
   ],
   "source": [
    "learn.unfreeze()\n",
    "learn.lr_find()"
   ]
  },
  {
   "cell_type": "markdown",
   "metadata": {
    "id": "4nKRkMwqiNii",
    "colab_type": "text"
   },
   "source": [
    "### Train the model using differential learning rates by passing the max_lr argument to the fit_one_cycle method."
   ]
  },
  {
   "cell_type": "code",
   "execution_count": 60,
   "metadata": {
    "id": "VN4CcWITiOuo",
    "colab_type": "code",
    "colab": {
     "base_uri": "https://localhost:8080/",
     "height": 173.0
    },
    "outputId": "5af7b740-52ec-41eb-a25b-71b9ec2e2a52"
   },
   "outputs": [
    {
     "data": {
      "text/html": [
       "<table border=\"1\" class=\"dataframe\">\n",
       "  <thead>\n",
       "    <tr style=\"text-align: left;\">\n",
       "      <th>epoch</th>\n",
       "      <th>train_loss</th>\n",
       "      <th>valid_loss</th>\n",
       "      <th>error_rate</th>\n",
       "      <th>time</th>\n",
       "    </tr>\n",
       "  </thead>\n",
       "  <tbody>\n",
       "    <tr>\n",
       "      <td>0</td>\n",
       "      <td>0.323528</td>\n",
       "      <td>0.105361</td>\n",
       "      <td>0.054455</td>\n",
       "      <td>06:12</td>\n",
       "    </tr>\n",
       "    <tr>\n",
       "      <td>1</td>\n",
       "      <td>0.290350</td>\n",
       "      <td>0.064906</td>\n",
       "      <td>0.014851</td>\n",
       "      <td>06:04</td>\n",
       "    </tr>\n",
       "    <tr>\n",
       "      <td>2</td>\n",
       "      <td>0.191790</td>\n",
       "      <td>0.046826</td>\n",
       "      <td>0.019802</td>\n",
       "      <td>06:02</td>\n",
       "    </tr>\n",
       "    <tr>\n",
       "      <td>3</td>\n",
       "      <td>0.131582</td>\n",
       "      <td>0.034415</td>\n",
       "      <td>0.004950</td>\n",
       "      <td>06:01</td>\n",
       "    </tr>\n",
       "  </tbody>\n",
       "</table>"
      ],
      "text/plain": [
       "<IPython.core.display.HTML object>"
      ]
     },
     "metadata": {
      "tags": []
     },
     "output_type": "execute_result"
    }
   ],
   "source": [
    "learn.fit_one_cycle(4, max_lr=slice(3e-5, 3e-4))"
   ]
  },
  {
   "cell_type": "markdown",
   "metadata": {
    "id": "dlSjdH7AqhrL",
    "colab_type": "text"
   },
   "source": [
    "### SAVE the model for inference"
   ]
  },
  {
   "cell_type": "code",
   "execution_count": 0,
   "metadata": {
    "id": "RwRHNd6pkM5j",
    "colab_type": "code",
    "colab": {}
   },
   "outputs": [],
   "source": [
    "learn.save('defect_classifier')"
   ]
  },
  {
   "cell_type": "markdown",
   "metadata": {
    "id": "Cr4JeHqfq0vs",
    "colab_type": "text"
   },
   "source": [
    "### Export Model"
   ]
  },
  {
   "cell_type": "code",
   "execution_count": 0,
   "metadata": {
    "id": "e08nDbGIqk7M",
    "colab_type": "code",
    "colab": {}
   },
   "outputs": [],
   "source": [
    "learn.load('defect_classifier')\n",
    "learn.export('defect_classifier.pkl')"
   ]
  },
  {
   "cell_type": "markdown",
   "metadata": {
    "id": "4ho3E_gfrSsM",
    "colab_type": "text"
   },
   "source": [
    "### Examine Confusion Matrix"
   ]
  },
  {
   "cell_type": "code",
   "execution_count": 64,
   "metadata": {
    "id": "XTxLPmN_q2Zv",
    "colab_type": "code",
    "colab": {
     "base_uri": "https://localhost:8080/",
     "height": 455.0
    },
    "outputId": "7d7f6cc9-7394-4ddf-f61b-94c71202430e"
   },
   "outputs": [
    {
     "data": {
      "text/html": [
       ""
      ],
      "text/plain": [
       "<IPython.core.display.HTML object>"
      ]
     },
     "metadata": {
      "tags": []
     },
     "output_type": "execute_result"
    },
    {
     "data": {
      "image/png": "[encoded data removed]",
      "text/plain": [
       "<Figure size 432x432 with 1 Axes>"
      ]
     },
     "metadata": {
      "tags": []
     },
     "output_type": "display_data"
    }
   ],
   "source": [
    "interp = ClassificationInterpretation.from_learner(learn)\n",
    "interp.plot_confusion_matrix(figsize=(6,6))"
   ]
  },
  {
   "cell_type": "markdown",
   "metadata": {
    "id": "yWEhpjFZ2kwm",
    "colab_type": "text"
   },
   "source": [
    "### Zip another folder from PCB Dataset for use in Application Testing"
   ]
  },
  {
   "cell_type": "markdown",
   "metadata": {
    "id": "SMkW6Jjn4_9B",
    "colab_type": "text"
   },
   "source": [
    ""
   ]
  },
  {
   "cell_type": "code",
   "execution_count": 0,
   "metadata": {
    "id": "hmyy8U0o2sny",
    "colab_type": "code",
    "colab": {}
   },
   "outputs": [],
   "source": [
    "zip_files_in_directory(**{\n",
    "    \"directory\" : \"DeepPCB/PCBData/group12000/12000/\",\n",
    "    \"zip_filename\" : \"test_temp_for_app.zip\"\n",
    "})"
   ]
  }
 ],
 "metadata": {
  "colab": {
   "name": "PCB Defect Extraction and Classification.ipynb",
   "provenance": [],
   "collapsed_sections": [],
   "toc_visible": true
  },
  "kernelspec": {
   "name": "python3",
   "display_name": "Python 3"
  },
  "accelerator": "GPU"
 },
 "nbformat": 4,
 "nbformat_minor": 0
}